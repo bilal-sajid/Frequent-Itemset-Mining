{
 "cells": [
  {
   "cell_type": "markdown",
   "metadata": {},
   "source": [
    "## Important Note:\n",
    "\n",
    "#### Please ensure that your dataset is formatted as a list of items, where each transaction is represented as a comma-separated values\n",
    "For example:\n",
    "- `olive oil, frozen smoothie, green tea, whole wheat flour, salmon`\n",
    "\n",
    "Each transaction should be on a new line in the input file. \n",
    "<!-- This format is required for the FP-Growth and Apriori algorithms to function correctly. -->\n"
   ]
  },
  {
   "cell_type": "code",
   "execution_count": 8,
   "metadata": {},
   "outputs": [],
   "source": [
    "# All Imports\n",
    "import pandas as pd\n",
    "import numpy as np\n",
    "\n",
    "import mlxtend\n",
    "from mlxtend.frequent_patterns import apriori, association_rules\n",
    "from mlxtend.preprocessing import TransactionEncoder"
   ]
  },
  {
   "cell_type": "markdown",
   "metadata": {},
   "source": [
    "### Reading the Dataset\n",
    "To read your own dataset, you can modify the file path in the following code:"
   ]
  },
  {
   "cell_type": "code",
   "execution_count": null,
   "metadata": {},
   "outputs": [],
   "source": [
    "df = pd.read_csv(\"Example_Dataset.csv\", header=None)\n",
    "df"
   ]
  },
  {
   "cell_type": "markdown",
   "metadata": {},
   "source": [
    "# Pre-Processing the Data"
   ]
  },
  {
   "cell_type": "code",
   "execution_count": 10,
   "metadata": {},
   "outputs": [],
   "source": [
    "preprocessed_df = df.copy()\n",
    "\n",
    "# Creating a new column which contains all the different items as a list\n",
    "list_of_items_col = 'List of Items'\n",
    "if list_of_items_col not in preprocessed_df.columns:\n",
    "    preprocessed_df[list_of_items_col] = preprocessed_df.apply(lambda x: x.dropna().tolist(), axis = 1)\n",
    "\n",
    "# Dropping all other columns\n",
    "preprocessed_df = preprocessed_df[[list_of_items_col]]\n",
    "# preprocessed_df\n",
    "\n",
    "\n",
    "# Encoding \n",
    "transactions = preprocessed_df[list_of_items_col].tolist()\n",
    "transaction_encode = TransactionEncoder()\n",
    "transaction_encode.fit(transactions)\n",
    "\n",
    "encoded_transactions = transaction_encode.transform(transactions)\n",
    "\n",
    "preprocessed_df = pd.DataFrame(encoded_transactions, columns=transaction_encode.columns_)"
   ]
  },
  {
   "cell_type": "markdown",
   "metadata": {},
   "source": [
    "The `preprocessed_df` DataFrame now contains the encoded transactions where each item is represented as a column header. Each row indicates the presence (True) or absence (False) of items in that specific transaction. \n",
    "\n",
    "For example, the structure will look like this:\n",
    "\n",
    "| avocado | honey  | mineral water | frozen smoothie | eggs  | spinach | burgers |\n",
    "|---------|--------|---------------|-----------------|-------|---------|---------|\n",
    "| True    | False  | True          | False           | True  | False   | True    |\n",
    "| False   | True   | False         | True            | False | True    | False   |\n"
   ]
  },
  {
   "cell_type": "code",
   "execution_count": null,
   "metadata": {},
   "outputs": [],
   "source": [
    "preprocessed_df"
   ]
  },
  {
   "cell_type": "markdown",
   "metadata": {},
   "source": [
    "# Implementing Apriori Algorithm"
   ]
  },
  {
   "cell_type": "markdown",
   "metadata": {},
   "source": [
    "### For More Information\n",
    "Please refer to the README file for a comprehensive explanation of **support** and **confidence** metrics\n"
   ]
  },
  {
   "cell_type": "markdown",
   "metadata": {},
   "source": [
    "## Inputting the Minimum Support Count\n",
    "\n",
    "When prompted to enter the **Minimum Support Count**, please provide the value as a decimal rather than a percentage.\n",
    "\n",
    "For example:\n",
    "- Enter **0.01** for 1% support, not **1%** or **1**."
   ]
  },
  {
   "cell_type": "code",
   "execution_count": null,
   "metadata": {},
   "outputs": [],
   "source": [
    "minimum_support_value = input(\"Input the Minimum Support Count: \")\n",
    "\n",
    "frequent_items = apriori(preprocessed_df, min_support = float(minimum_support_value), use_colnames=True)\n",
    "frequent_items"
   ]
  },
  {
   "cell_type": "markdown",
   "metadata": {},
   "source": [
    "## Inputting the Confidence Threshold\n",
    "\n",
    "When prompted to enter the **Confidence Threshold**, please provide the value as a decimal rather than a percentage. \n",
    "\n",
    "For example:\n",
    "- Enter **0.75** for 75% confidence, not **75%** or **0.75**.\n",
    "\n",
    "This ensures the application correctly interprets your input for accurate analysis.\n"
   ]
  },
  {
   "cell_type": "code",
   "execution_count": null,
   "metadata": {},
   "outputs": [],
   "source": [
    "confidence_threshold = input(\"Input the Confidence Threshold\")\n",
    "\n",
    "rules_df = association_rules(frequent_items, min_threshold = float(confidence_threshold))\n",
    "rules_df"
   ]
  },
  {
   "cell_type": "code",
   "execution_count": null,
   "metadata": {},
   "outputs": [],
   "source": []
  }
 ],
 "metadata": {
  "kernelspec": {
   "display_name": "Python 3",
   "language": "python",
   "name": "python3"
  },
  "language_info": {
   "codemirror_mode": {
    "name": "ipython",
    "version": 3
   },
   "file_extension": ".py",
   "mimetype": "text/x-python",
   "name": "python",
   "nbconvert_exporter": "python",
   "pygments_lexer": "ipython3",
   "version": "3.12.5"
  }
 },
 "nbformat": 4,
 "nbformat_minor": 2
}
